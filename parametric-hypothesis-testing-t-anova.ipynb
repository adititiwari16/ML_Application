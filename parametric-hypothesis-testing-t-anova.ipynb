{
 "cells": [
  {
   "cell_type": "code",
   "execution_count": 1,
   "id": "7063a681",
   "metadata": {
    "_cell_guid": "b1076dfc-b9ad-4769-8c92-a6c4dae69d19",
    "_uuid": "8f2839f25d086af736a60e9eeb907d3b93b6e0e5",
    "execution": {
     "iopub.execute_input": "2022-11-04T19:23:04.257678Z",
     "iopub.status.busy": "2022-11-04T19:23:04.257176Z",
     "iopub.status.idle": "2022-11-04T19:23:05.392115Z",
     "shell.execute_reply": "2022-11-04T19:23:05.390942Z"
    },
    "papermill": {
     "duration": 1.145178,
     "end_time": "2022-11-04T19:23:05.395307",
     "exception": false,
     "start_time": "2022-11-04T19:23:04.250129",
     "status": "completed"
    },
    "tags": []
   },
   "outputs": [],
   "source": [
    "import numpy as np\n",
    "import numpy.random as random\n",
    "import pandas as pd\n",
    "import matplotlib.pyplot as plt\n",
    "import seaborn as sns\n",
    "import scipy.stats as stats\n",
    "sns.set_style(\"darkgrid\")\n",
    "\n",
    "plt.rcParams['figure.figsize'] = (12, 6)"
   ]
  },
  {
   "cell_type": "markdown",
   "id": "2f3594ba",
   "metadata": {
    "papermill": {
     "duration": 0.0032,
     "end_time": "2022-11-04T19:23:05.402429",
     "exception": false,
     "start_time": "2022-11-04T19:23:05.399229",
     "status": "completed"
    },
    "tags": []
   },
   "source": [
    "# Significance Tests\n",
    "\n",
    "A typical question we may have about two or more samples of data is whether they have the same distribution. Parametric statistical significance tests are those statistical methods that assume data comes from the same Gaussian distribution, that is a data distribution with the same mean and standard deviation: the parameters of the distribution. Check out [Data Distributions (Gaussian, t, Chi-Squared)](https://www.kaggle.com/code/mattop/data-distributions-gaussian-t-chi-squared) for more on data distributions. Below are some commonly used significance tests:\n",
    "\n",
    "- The Student’s t-test for quantifying the difference between the mean of two independent data samples.\n",
    "\n",
    "- The paired Student’s t-test for quantifying the difference between the mean of two dependent data samples.\n",
    "\n",
    "- The ANOVA and repeated measures ANOVA for checking the similarity or difference between the means of 2 or more data samples.\n",
    "\n",
    "The p-value is used in the context of null hypothesis testing in order to quantify the statistical significance of a result. The lower the p-value is, the lower the probability of getting that result if the null hypothesis were true. A result is said to be statistically significant if it allows us to reject the null hypothesis. All other things being equal, smaller p-values are taken as stronger evidence against the null hypothesis.\n",
    "\n",
    "- p-value ≤ alpha: significant result, reject null hypothesis (H0), distributions differ.\n",
    "\n",
    "- p-value > alpha: not significant result, fail to reject null hypothesis (H0), distributions same.\n",
    "\n",
    "The p-value can be interpreted in the context of a chosen significance level called alpha. A common value for alpha is 5%, or 0.05. If the p-value is below the significance level, then the test says there is enough evidence to reject the null hypothesis and that the samples were likely drawn from populations with differing distributions.\n",
    "\n",
    "# Create data for testing"
   ]
  },
  {
   "cell_type": "code",
   "execution_count": 2,
   "id": "2bebaa49",
   "metadata": {
    "execution": {
     "iopub.execute_input": "2022-11-04T19:23:05.411279Z",
     "iopub.status.busy": "2022-11-04T19:23:05.410865Z",
     "iopub.status.idle": "2022-11-04T19:23:05.421314Z",
     "shell.execute_reply": "2022-11-04T19:23:05.419618Z"
    },
    "papermill": {
     "duration": 0.018789,
     "end_time": "2022-11-04T19:23:05.424607",
     "exception": false,
     "start_time": "2022-11-04T19:23:05.405818",
     "status": "completed"
    },
    "tags": []
   },
   "outputs": [
    {
     "name": "stdout",
     "output_type": "stream",
     "text": [
      "sample_1: mean = 50.397, std = 4.835\n",
      "sample_2: mean = 51.346, std = 4.927\n",
      "sample_3: mean = 51.880, std = 4.567\n"
     ]
    }
   ],
   "source": [
    "random.seed(10)\n",
    "\n",
    "sample_1 = 5 * random.randn(100) + 50\n",
    "sample_2 = 5 * random.randn(100) + 51\n",
    "sample_3 = 5 * random.randn(100) + 52\n",
    "\n",
    "print(\"sample_1: mean = %.3f, std = %.3f\" % (np.mean(sample_1), np.std(sample_1)))\n",
    "print(\"sample_2: mean = %.3f, std = %.3f\" % (np.mean(sample_2), np.std(sample_2)))\n",
    "print(\"sample_3: mean = %.3f, std = %.3f\" % (np.mean(sample_3), np.std(sample_3)))"
   ]
  },
  {
   "cell_type": "code",
   "execution_count": 3,
   "id": "44da803c",
   "metadata": {
    "execution": {
     "iopub.execute_input": "2022-11-04T19:23:05.434456Z",
     "iopub.status.busy": "2022-11-04T19:23:05.433968Z",
     "iopub.status.idle": "2022-11-04T19:23:05.847133Z",
     "shell.execute_reply": "2022-11-04T19:23:05.845784Z"
    },
    "papermill": {
     "duration": 0.420853,
     "end_time": "2022-11-04T19:23:05.849556",
     "exception": false,
     "start_time": "2022-11-04T19:23:05.428703",
     "status": "completed"
    },
    "tags": []
   },
   "outputs": [
    {
     "data": {
      "image/png": "[encoded data removed]",
      "text/plain": [
       "<Figure size 864x432 with 1 Axes>"
      ]
     },
     "metadata": {},
     "output_type": "display_data"
    }
   ],
   "source": [
    "plt.hist(sample_1, bins = 40, alpha = 0.5)\n",
    "plt.hist(sample_2, bins = 40, alpha = 0.5, color = \"green\")\n",
    "plt.title(\"sample_1 and sample_2 histogram\")\n",
    "plt.show()"
   ]
  },
  {
   "cell_type": "code",
   "execution_count": 4,
   "id": "ec411259",
   "metadata": {
    "execution": {
     "iopub.execute_input": "2022-11-04T19:23:05.859625Z",
     "iopub.status.busy": "2022-11-04T19:23:05.859121Z",
     "iopub.status.idle": "2022-11-04T19:23:06.241286Z",
     "shell.execute_reply": "2022-11-04T19:23:06.239980Z"
    },
    "papermill": {
     "duration": 0.391113,
     "end_time": "2022-11-04T19:23:06.244741",
     "exception": false,
     "start_time": "2022-11-04T19:23:05.853628",
     "status": "completed"
    },
    "tags": []
   },
   "outputs": [
    {
     "data": {
      "image/png": "[encoded data removed]",
      "text/plain": [
       "<Figure size 864x432 with 1 Axes>"
      ]
     },
     "metadata": {},
     "output_type": "display_data"
    }
   ],
   "source": [
    "plt.hist(sample_1, bins = 40, alpha = 0.5)\n",
    "plt.hist(sample_3, bins = 40, alpha = 0.5, color = \"red\")\n",
    "plt.title(\"sample_1 and sample_3 histogram\")\n",
    "plt.show()"
   ]
  },
  {
   "cell_type": "markdown",
   "id": "c13553f1",
   "metadata": {
    "papermill": {
     "duration": 0.004275,
     "end_time": "2022-11-04T19:23:06.255088",
     "exception": false,
     "start_time": "2022-11-04T19:23:06.250813",
     "status": "completed"
    },
    "tags": []
   },
   "source": [
    "# Student’s t-Test\n",
    "\n",
    "📌 - Let's first compare sample_1 and sample_2: \n",
    "- sample_1: mean = 50.397, std = 4.835\n",
    "- sample_2: mean = 51.346, std = 4.927"
   ]
  },
  {
   "cell_type": "code",
   "execution_count": 5,
   "id": "62def1f7",
   "metadata": {
    "execution": {
     "iopub.execute_input": "2022-11-04T19:23:06.266576Z",
     "iopub.status.busy": "2022-11-04T19:23:06.266137Z",
     "iopub.status.idle": "2022-11-04T19:23:06.274863Z",
     "shell.execute_reply": "2022-11-04T19:23:06.273917Z"
    },
    "papermill": {
     "duration": 0.018136,
     "end_time": "2022-11-04T19:23:06.277967",
     "exception": false,
     "start_time": "2022-11-04T19:23:06.259831",
     "status": "completed"
    },
    "tags": []
   },
   "outputs": [
    {
     "name": "stdout",
     "output_type": "stream",
     "text": [
      "Statistics = -1.368, p-value = 0.173\n",
      "Same distributions (fail to reject H0)\n"
     ]
    }
   ],
   "source": [
    "stat, p_value = stats.ttest_ind(sample_1, sample_2)\n",
    "print(\"Statistics = %.3f, p-value = %.3f\" % (stat, p_value))\n",
    "\n",
    "alpha = 0.05\n",
    "\n",
    "if p_value > alpha:\n",
    "    print(\"Same distributions (fail to reject H0)\") \n",
    "else:\n",
    "    print(\"Different distributions (reject H0)\")"
   ]
  },
  {
   "cell_type": "markdown",
   "id": "a5ad17b5",
   "metadata": {
    "papermill": {
     "duration": 0.004079,
     "end_time": "2022-11-04T19:23:06.286526",
     "exception": false,
     "start_time": "2022-11-04T19:23:06.282447",
     "status": "completed"
    },
    "tags": []
   },
   "source": [
    "The p-value is not small enough to reject the null hypothesis in this instance even though we created the sample means to be slightly different.\n",
    "\n",
    "📌 - Now we can compare sample_1 and sample_3: \n",
    "- sample_1: mean = 50.397, std = 4.835\n",
    "- sample_3: mean = 51.880, std = 4.567"
   ]
  },
  {
   "cell_type": "code",
   "execution_count": 6,
   "id": "2aa1e73e",
   "metadata": {
    "execution": {
     "iopub.execute_input": "2022-11-04T19:23:06.297274Z",
     "iopub.status.busy": "2022-11-04T19:23:06.296719Z",
     "iopub.status.idle": "2022-11-04T19:23:06.305231Z",
     "shell.execute_reply": "2022-11-04T19:23:06.303464Z"
    },
    "papermill": {
     "duration": 0.018156,
     "end_time": "2022-11-04T19:23:06.308973",
     "exception": false,
     "start_time": "2022-11-04T19:23:06.290817",
     "status": "completed"
    },
    "tags": []
   },
   "outputs": [
    {
     "name": "stdout",
     "output_type": "stream",
     "text": [
      "Statistics = -2.219, p-value = 0.028\n",
      "Different distributions (reject H0)\n"
     ]
    }
   ],
   "source": [
    "stat, p_value = stats.ttest_ind(sample_1, sample_3)\n",
    "print(\"Statistics = %.3f, p-value = %.3f\" % (stat, p_value))\n",
    "\n",
    "alpha = 0.05\n",
    "\n",
    "if p_value > alpha:\n",
    "    print(\"Same distributions (fail to reject H0)\") \n",
    "else:\n",
    "    print(\"Different distributions (reject H0)\")"
   ]
  },
  {
   "cell_type": "markdown",
   "id": "b3cf8cef",
   "metadata": {
    "papermill": {
     "duration": 0.004065,
     "end_time": "2022-11-04T19:23:06.317690",
     "exception": false,
     "start_time": "2022-11-04T19:23:06.313625",
     "status": "completed"
    },
    "tags": []
   },
   "source": [
    "The p-value is now small enough to reject the null hypothesis in this instance.\n",
    "\n",
    "# Paired Student’s t-Test\n",
    "\n",
    "A dependent samples t-test is also used to compare two means on a single dependent variable. Unlike the independent samples test, however, a dependent samples t-test is used to compare the means of a single sample or of two matched or paired samples. The paired Student’s t-test can be implemented using the ttest_rel() SciPy function.\n",
    "\n",
    "# Analysis of Variance Test (ANOVA)\n",
    "\n",
    "ANOVA is a statistical test that assumes that the mean across 2 or more groups are equal. If the evidence suggests that this is not the case, the null hypothesis is rejected and at least one data sample has a different distribution.\n",
    "\n",
    "- Fail to Reject H0: All sample distributions are equal.\n",
    "- Reject H0: One or more sample distributions are not equal.\n",
    "\n",
    "Importantly, the test can only comment on whether all samples are the same or not; it cannot quantify which samples differ or by how much."
   ]
  },
  {
   "cell_type": "code",
   "execution_count": 7,
   "id": "95307feb",
   "metadata": {
    "execution": {
     "iopub.execute_input": "2022-11-04T19:23:06.329262Z",
     "iopub.status.busy": "2022-11-04T19:23:06.327922Z",
     "iopub.status.idle": "2022-11-04T19:23:06.340792Z",
     "shell.execute_reply": "2022-11-04T19:23:06.339084Z"
    },
    "papermill": {
     "duration": 0.022443,
     "end_time": "2022-11-04T19:23:06.344452",
     "exception": false,
     "start_time": "2022-11-04T19:23:06.322009",
     "status": "completed"
    },
    "tags": []
   },
   "outputs": [
    {
     "name": "stdout",
     "output_type": "stream",
     "text": [
      "sample_4: mean = 49.727, std = 5.363\n",
      "sample_5: mean = 50.433, std = 5.000\n",
      "sample_6: mean = 51.814, std = 4.423\n",
      "-----------------------------------\n",
      "Statistics = 4.563, p-value = 0.011\n",
      "Different distributions (reject H0)\n"
     ]
    }
   ],
   "source": [
    "random.seed(20)\n",
    "\n",
    "sample_4 = 5 * random.randn(100) + 50\n",
    "sample_5 = 5 * random.randn(100) + 50\n",
    "sample_6 = 5 * random.randn(100) + 52\n",
    "\n",
    "print(\"sample_4: mean = %.3f, std = %.3f\" % (np.mean(sample_4), np.std(sample_4)))\n",
    "print(\"sample_5: mean = %.3f, std = %.3f\" % (np.mean(sample_5), np.std(sample_5)))\n",
    "print(\"sample_6: mean = %.3f, std = %.3f\" % (np.mean(sample_6), np.std(sample_6)))\n",
    "print(\"-\" * 35)\n",
    "\n",
    "stat, p_value = stats.f_oneway(sample_4, sample_5, sample_6)\n",
    "print(\"Statistics = %.3f, p-value = %.3f\" % (stat, p_value))\n",
    "\n",
    "alpha = 0.05\n",
    "\n",
    "if p_value > alpha:\n",
    "    print(\"Same distributions (fail to reject H0)\") \n",
    "else:\n",
    "    print(\"Different distributions (reject H0)\")"
   ]
  }
 ],
 "metadata": {
  "kernelspec": {
   "display_name": "Python 3 (ipykernel)",
   "language": "python",
   "name": "python3"
  },
  "language_info": {
   "codemirror_mode": {
    "name": "ipython",
    "version": 3
   },
   "file_extension": ".py",
   "mimetype": "text/x-python",
   "name": "python",
   "nbconvert_exporter": "python",
   "pygments_lexer": "ipython3",
   "version": "3.11.7"
  },
  "papermill": {
   "default_parameters": {},
   "duration": 13.39151,
   "end_time": "2022-11-04T19:23:07.073634",
   "environment_variables": {},
   "exception": null,
   "input_path": "__notebook__.ipynb",
   "output_path": "__notebook__.ipynb",
   "parameters": {},
   "start_time": "2022-11-04T19:22:53.682124",
   "version": "2.3.4"
  }
 },
 "nbformat": 4,
 "nbformat_minor": 5
}
