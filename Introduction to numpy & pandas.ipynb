{
 "cells": [
  {
   "cell_type": "code",
   "execution_count": 52,
   "id": "c13d8d23",
   "metadata": {},
   "outputs": [
    {
     "name": "stderr",
     "output_type": "stream",
     "text": [
      "C:\\Users\\Aditi Tiwari\\anaconda3\\lib\\site-packages\\scipy\\__init__.py:146: UserWarning: A NumPy version >=1.16.5 and <1.23.0 is required for this version of SciPy (detected version 1.24.3\n",
      "  warnings.warn(f\"A NumPy version >={np_minversion} and <{np_maxversion}\"\n"
     ]
    }
   ],
   "source": [
    "import pandas as pd\n",
    "import numpy as np\n",
    "import matplotlib.pyplot as plt\n",
    "import seaborn as sns"
   ]
  },
  {
   "cell_type": "markdown",
   "id": "ce6fca31",
   "metadata": {},
   "source": [
    "## Introduction to pandas"
   ]
  },
  {
   "cell_type": "markdown",
   "id": "73b7c345",
   "metadata": {},
   "source": [
    "### Task 1: Basic DataFrame Operations\n",
    "I.\tDownload a dataset of your choice (CSV, Excel, or any other format). And load the dataset into a Pandas DataFrame.\n",
    "\n",
    "II.\tDisplay the first 5 rows of the dataset. Check for missing values and handle them appropriately. Get a summary of the dataset using describe().\n",
    "\n",
    "III.\tSelect a subset of columns from the DataFrame. Use both label-based and position-based indexing. Create a new DataFrame by filtering rows based on a condition."
   ]
  },
  {
   "cell_type": "code",
   "execution_count": 44,
   "id": "cf9197a3",
   "metadata": {
    "scrolled": true
   },
   "outputs": [
    {
     "data": {
      "text/html": [
       "<div>\n",
       "<style scoped>\n",
       "    .dataframe tbody tr th:only-of-type {\n",
       "        vertical-align: middle;\n",
       "    }\n",
       "\n",
       "    .dataframe tbody tr th {\n",
       "        vertical-align: top;\n",
       "    }\n",
       "\n",
       "    .dataframe thead th {\n",
       "        text-align: right;\n",
       "    }\n",
       "</style>\n",
       "<table border=\"1\" class=\"dataframe\">\n",
       "  <thead>\n",
       "    <tr style=\"text-align: right;\">\n",
       "      <th></th>\n",
       "      <th>Make</th>\n",
       "      <th>Colour</th>\n",
       "      <th>Odometer (KM)</th>\n",
       "      <th>Doors</th>\n",
       "      <th>Price</th>\n",
       "    </tr>\n",
       "  </thead>\n",
       "  <tbody>\n",
       "    <tr>\n",
       "      <th>0</th>\n",
       "      <td>Toyota</td>\n",
       "      <td>White</td>\n",
       "      <td>150043</td>\n",
       "      <td>4.0</td>\n",
       "      <td>4,000</td>\n",
       "    </tr>\n",
       "    <tr>\n",
       "      <th>1</th>\n",
       "      <td>Honda</td>\n",
       "      <td>NaN</td>\n",
       "      <td>87899</td>\n",
       "      <td>4.0</td>\n",
       "      <td>5,000</td>\n",
       "    </tr>\n",
       "    <tr>\n",
       "      <th>2</th>\n",
       "      <td>Toyota</td>\n",
       "      <td>Blue</td>\n",
       "      <td>32549</td>\n",
       "      <td>3.0</td>\n",
       "      <td>7,000</td>\n",
       "    </tr>\n",
       "    <tr>\n",
       "      <th>3</th>\n",
       "      <td>BMW</td>\n",
       "      <td>Black</td>\n",
       "      <td>11179</td>\n",
       "      <td>5.0</td>\n",
       "      <td>22,000</td>\n",
       "    </tr>\n",
       "    <tr>\n",
       "      <th>4</th>\n",
       "      <td>Nissan</td>\n",
       "      <td>White</td>\n",
       "      <td>213095</td>\n",
       "      <td>4.0</td>\n",
       "      <td>3,500</td>\n",
       "    </tr>\n",
       "  </tbody>\n",
       "</table>\n",
       "</div>"
      ],
      "text/plain": [
       "     Make Colour  Odometer (KM)  Doors   Price\n",
       "0  Toyota  White         150043    4.0   4,000\n",
       "1   Honda    NaN          87899    4.0   5,000\n",
       "2  Toyota   Blue          32549    3.0   7,000\n",
       "3     BMW  Black          11179    5.0  22,000\n",
       "4  Nissan  White         213095    4.0   3,500"
      ]
     },
     "execution_count": 44,
     "metadata": {},
     "output_type": "execute_result"
    }
   ],
   "source": [
    "import pandas as pd\n",
    "car_sales = pd.read_csv(\"car-sales-Copy1.csv\")\n",
    "car_sales.head(5)"
   ]
  },
  {
   "cell_type": "code",
   "execution_count": 45,
   "id": "1630d4da",
   "metadata": {},
   "outputs": [
    {
     "data": {
      "text/html": [
       "<div>\n",
       "<style scoped>\n",
       "    .dataframe tbody tr th:only-of-type {\n",
       "        vertical-align: middle;\n",
       "    }\n",
       "\n",
       "    .dataframe tbody tr th {\n",
       "        vertical-align: top;\n",
       "    }\n",
       "\n",
       "    .dataframe thead th {\n",
       "        text-align: right;\n",
       "    }\n",
       "</style>\n",
       "<table border=\"1\" class=\"dataframe\">\n",
       "  <thead>\n",
       "    <tr style=\"text-align: right;\">\n",
       "      <th></th>\n",
       "      <th>Make</th>\n",
       "      <th>Colour</th>\n",
       "      <th>Odometer (KM)</th>\n",
       "      <th>Doors</th>\n",
       "      <th>Price</th>\n",
       "    </tr>\n",
       "  </thead>\n",
       "  <tbody>\n",
       "    <tr>\n",
       "      <th>0</th>\n",
       "      <td>Toyota</td>\n",
       "      <td>White</td>\n",
       "      <td>150043</td>\n",
       "      <td>4.0</td>\n",
       "      <td>4,000</td>\n",
       "    </tr>\n",
       "    <tr>\n",
       "      <th>2</th>\n",
       "      <td>Toyota</td>\n",
       "      <td>Blue</td>\n",
       "      <td>32549</td>\n",
       "      <td>3.0</td>\n",
       "      <td>7,000</td>\n",
       "    </tr>\n",
       "    <tr>\n",
       "      <th>5</th>\n",
       "      <td>Toyota</td>\n",
       "      <td>Green</td>\n",
       "      <td>99213</td>\n",
       "      <td>NaN</td>\n",
       "      <td>4,500</td>\n",
       "    </tr>\n",
       "    <tr>\n",
       "      <th>8</th>\n",
       "      <td>Toyota</td>\n",
       "      <td>White</td>\n",
       "      <td>60000</td>\n",
       "      <td>NaN</td>\n",
       "      <td>6,250</td>\n",
       "    </tr>\n",
       "  </tbody>\n",
       "</table>\n",
       "</div>"
      ],
      "text/plain": [
       "     Make Colour  Odometer (KM)  Doors  Price\n",
       "0  Toyota  White         150043    4.0  4,000\n",
       "2  Toyota   Blue          32549    3.0  7,000\n",
       "5  Toyota  Green          99213    NaN  4,500\n",
       "8  Toyota  White          60000    NaN  6,250"
      ]
     },
     "execution_count": 45,
     "metadata": {},
     "output_type": "execute_result"
    }
   ],
   "source": [
    "car_sales[car_sales['Make'] == \"Toyota\"]"
   ]
  },
  {
   "cell_type": "markdown",
   "id": "23177ed7",
   "metadata": {},
   "source": [
    "### Task 2: Data Cleaning and Preprocessing\n",
    "I.\tIdentify missing values in the dataset. Decide on a strategy to handle missing values (e.g., imputation or removal). Implement the chosen strategy and explain the reasoning.\n",
    "\n",
    "II.\tCreate a new column by applying a mathematical operation on existing columns. Convert a categorical variable into numerical representation (e.g., using one-hot encoding).\n",
    "\n",
    "III.\tGroup the data by a specific column. Apply aggregation functions (sum, mean, count) to the grouped data. Present the results in a meaningful way."
   ]
  },
  {
   "cell_type": "code",
   "execution_count": 46,
   "id": "239917ad",
   "metadata": {},
   "outputs": [
    {
     "data": {
      "text/html": [
       "<div>\n",
       "<style scoped>\n",
       "    .dataframe tbody tr th:only-of-type {\n",
       "        vertical-align: middle;\n",
       "    }\n",
       "\n",
       "    .dataframe tbody tr th {\n",
       "        vertical-align: top;\n",
       "    }\n",
       "\n",
       "    .dataframe thead th {\n",
       "        text-align: right;\n",
       "    }\n",
       "</style>\n",
       "<table border=\"1\" class=\"dataframe\">\n",
       "  <thead>\n",
       "    <tr style=\"text-align: right;\">\n",
       "      <th></th>\n",
       "      <th>Make</th>\n",
       "      <th>Colour</th>\n",
       "      <th>Odometer (KM)</th>\n",
       "      <th>Doors</th>\n",
       "      <th>Price</th>\n",
       "    </tr>\n",
       "  </thead>\n",
       "  <tbody>\n",
       "    <tr>\n",
       "      <th>0</th>\n",
       "      <td>Toyota</td>\n",
       "      <td>White</td>\n",
       "      <td>150043</td>\n",
       "      <td>4.0</td>\n",
       "      <td>4,000</td>\n",
       "    </tr>\n",
       "    <tr>\n",
       "      <th>2</th>\n",
       "      <td>Toyota</td>\n",
       "      <td>Blue</td>\n",
       "      <td>32549</td>\n",
       "      <td>3.0</td>\n",
       "      <td>7,000</td>\n",
       "    </tr>\n",
       "    <tr>\n",
       "      <th>3</th>\n",
       "      <td>BMW</td>\n",
       "      <td>Black</td>\n",
       "      <td>11179</td>\n",
       "      <td>5.0</td>\n",
       "      <td>22,000</td>\n",
       "    </tr>\n",
       "    <tr>\n",
       "      <th>4</th>\n",
       "      <td>Nissan</td>\n",
       "      <td>White</td>\n",
       "      <td>213095</td>\n",
       "      <td>4.0</td>\n",
       "      <td>3,500</td>\n",
       "    </tr>\n",
       "    <tr>\n",
       "      <th>7</th>\n",
       "      <td>Honda</td>\n",
       "      <td>Blue</td>\n",
       "      <td>54738</td>\n",
       "      <td>4.0</td>\n",
       "      <td>7,000</td>\n",
       "    </tr>\n",
       "    <tr>\n",
       "      <th>9</th>\n",
       "      <td>Nissan</td>\n",
       "      <td>White</td>\n",
       "      <td>31600</td>\n",
       "      <td>4.0</td>\n",
       "      <td>9,700</td>\n",
       "    </tr>\n",
       "  </tbody>\n",
       "</table>\n",
       "</div>"
      ],
      "text/plain": [
       "     Make Colour  Odometer (KM)  Doors   Price\n",
       "0  Toyota  White         150043    4.0   4,000\n",
       "2  Toyota   Blue          32549    3.0   7,000\n",
       "3     BMW  Black          11179    5.0  22,000\n",
       "4  Nissan  White         213095    4.0   3,500\n",
       "7   Honda   Blue          54738    4.0   7,000\n",
       "9  Nissan  White          31600    4.0   9,700"
      ]
     },
     "execution_count": 46,
     "metadata": {},
     "output_type": "execute_result"
    }
   ],
   "source": [
    "#Remove all rows wit NULL values from the DataFrame.\n",
    "car_sales_missing_dropped = car_sales.dropna()\n",
    "car_sales_missing_dropped"
   ]
  },
  {
   "cell_type": "code",
   "execution_count": 47,
   "id": "64b73567",
   "metadata": {},
   "outputs": [
    {
     "data": {
      "text/html": [
       "<div>\n",
       "<style scoped>\n",
       "    .dataframe tbody tr th:only-of-type {\n",
       "        vertical-align: middle;\n",
       "    }\n",
       "\n",
       "    .dataframe tbody tr th {\n",
       "        vertical-align: top;\n",
       "    }\n",
       "\n",
       "    .dataframe thead th {\n",
       "        text-align: right;\n",
       "    }\n",
       "</style>\n",
       "<table border=\"1\" class=\"dataframe\">\n",
       "  <thead>\n",
       "    <tr style=\"text-align: right;\">\n",
       "      <th></th>\n",
       "      <th>Make</th>\n",
       "      <th>Colour</th>\n",
       "      <th>Odometer (KM)</th>\n",
       "      <th>Doors</th>\n",
       "      <th>Price</th>\n",
       "      <th>Fuel (per 100Km)</th>\n",
       "    </tr>\n",
       "  </thead>\n",
       "  <tbody>\n",
       "    <tr>\n",
       "      <th>0</th>\n",
       "      <td>Toyota</td>\n",
       "      <td>White</td>\n",
       "      <td>150043</td>\n",
       "      <td>4.0</td>\n",
       "      <td>4,000</td>\n",
       "      <td>7.5</td>\n",
       "    </tr>\n",
       "    <tr>\n",
       "      <th>1</th>\n",
       "      <td>Honda</td>\n",
       "      <td>NaN</td>\n",
       "      <td>87899</td>\n",
       "      <td>4.0</td>\n",
       "      <td>5,000</td>\n",
       "      <td>9.2</td>\n",
       "    </tr>\n",
       "    <tr>\n",
       "      <th>2</th>\n",
       "      <td>Toyota</td>\n",
       "      <td>Blue</td>\n",
       "      <td>32549</td>\n",
       "      <td>3.0</td>\n",
       "      <td>7,000</td>\n",
       "      <td>8.3</td>\n",
       "    </tr>\n",
       "    <tr>\n",
       "      <th>3</th>\n",
       "      <td>BMW</td>\n",
       "      <td>Black</td>\n",
       "      <td>11179</td>\n",
       "      <td>5.0</td>\n",
       "      <td>22,000</td>\n",
       "      <td>7.3</td>\n",
       "    </tr>\n",
       "    <tr>\n",
       "      <th>4</th>\n",
       "      <td>Nissan</td>\n",
       "      <td>White</td>\n",
       "      <td>213095</td>\n",
       "      <td>4.0</td>\n",
       "      <td>3,500</td>\n",
       "      <td>8.2</td>\n",
       "    </tr>\n",
       "    <tr>\n",
       "      <th>5</th>\n",
       "      <td>Toyota</td>\n",
       "      <td>Green</td>\n",
       "      <td>99213</td>\n",
       "      <td>NaN</td>\n",
       "      <td>4,500</td>\n",
       "      <td>9.4</td>\n",
       "    </tr>\n",
       "    <tr>\n",
       "      <th>6</th>\n",
       "      <td>Honda</td>\n",
       "      <td>NaN</td>\n",
       "      <td>45698</td>\n",
       "      <td>4.0</td>\n",
       "      <td>7,500</td>\n",
       "      <td>8.6</td>\n",
       "    </tr>\n",
       "    <tr>\n",
       "      <th>7</th>\n",
       "      <td>Honda</td>\n",
       "      <td>Blue</td>\n",
       "      <td>54738</td>\n",
       "      <td>4.0</td>\n",
       "      <td>7,000</td>\n",
       "      <td>7.4</td>\n",
       "    </tr>\n",
       "    <tr>\n",
       "      <th>8</th>\n",
       "      <td>Toyota</td>\n",
       "      <td>White</td>\n",
       "      <td>60000</td>\n",
       "      <td>NaN</td>\n",
       "      <td>6,250</td>\n",
       "      <td>8.8</td>\n",
       "    </tr>\n",
       "    <tr>\n",
       "      <th>9</th>\n",
       "      <td>Nissan</td>\n",
       "      <td>White</td>\n",
       "      <td>31600</td>\n",
       "      <td>4.0</td>\n",
       "      <td>9,700</td>\n",
       "      <td>7.8</td>\n",
       "    </tr>\n",
       "  </tbody>\n",
       "</table>\n",
       "</div>"
      ],
      "text/plain": [
       "     Make Colour  Odometer (KM)  Doors   Price  Fuel (per 100Km)\n",
       "0  Toyota  White         150043    4.0   4,000               7.5\n",
       "1   Honda    NaN          87899    4.0   5,000               9.2\n",
       "2  Toyota   Blue          32549    3.0   7,000               8.3\n",
       "3     BMW  Black          11179    5.0  22,000               7.3\n",
       "4  Nissan  White         213095    4.0   3,500               8.2\n",
       "5  Toyota  Green          99213    NaN   4,500               9.4\n",
       "6   Honda    NaN          45698    4.0   7,500               8.6\n",
       "7   Honda   Blue          54738    4.0   7,000               7.4\n",
       "8  Toyota  White          60000    NaN   6,250               8.8\n",
       "9  Nissan  White          31600    4.0   9,700               7.8"
      ]
     },
     "execution_count": 47,
     "metadata": {},
     "output_type": "execute_result"
    }
   ],
   "source": [
    "# Column from python list\n",
    "fuel_economy = [7.5, 9.2, 8.3, 7.3, 8.2, 9.4, 8.6, 7.4, 8.8, 7.8]\n",
    "car_sales['Fuel (per 100Km)'] = fuel_economy\n",
    "car_sales"
   ]
  },
  {
   "cell_type": "code",
   "execution_count": 48,
   "id": "ed385885",
   "metadata": {},
   "outputs": [
    {
     "data": {
      "text/html": [
       "<div>\n",
       "<style scoped>\n",
       "    .dataframe tbody tr th:only-of-type {\n",
       "        vertical-align: middle;\n",
       "    }\n",
       "\n",
       "    .dataframe tbody tr th {\n",
       "        vertical-align: top;\n",
       "    }\n",
       "\n",
       "    .dataframe thead th {\n",
       "        text-align: right;\n",
       "    }\n",
       "</style>\n",
       "<table border=\"1\" class=\"dataframe\">\n",
       "  <thead>\n",
       "    <tr style=\"text-align: right;\">\n",
       "      <th></th>\n",
       "      <th>Make</th>\n",
       "      <th>Colour</th>\n",
       "      <th>Odometer (KM)</th>\n",
       "      <th>Doors</th>\n",
       "      <th>Price</th>\n",
       "      <th>Fuel (per 100Km)</th>\n",
       "      <th>Total fuel used (L)</th>\n",
       "    </tr>\n",
       "  </thead>\n",
       "  <tbody>\n",
       "    <tr>\n",
       "      <th>0</th>\n",
       "      <td>Toyota</td>\n",
       "      <td>White</td>\n",
       "      <td>150043</td>\n",
       "      <td>4.0</td>\n",
       "      <td>4,000</td>\n",
       "      <td>7.5</td>\n",
       "      <td>11253.225</td>\n",
       "    </tr>\n",
       "    <tr>\n",
       "      <th>1</th>\n",
       "      <td>Honda</td>\n",
       "      <td>NaN</td>\n",
       "      <td>87899</td>\n",
       "      <td>4.0</td>\n",
       "      <td>5,000</td>\n",
       "      <td>9.2</td>\n",
       "      <td>8086.708</td>\n",
       "    </tr>\n",
       "    <tr>\n",
       "      <th>2</th>\n",
       "      <td>Toyota</td>\n",
       "      <td>Blue</td>\n",
       "      <td>32549</td>\n",
       "      <td>3.0</td>\n",
       "      <td>7,000</td>\n",
       "      <td>8.3</td>\n",
       "      <td>2701.567</td>\n",
       "    </tr>\n",
       "    <tr>\n",
       "      <th>3</th>\n",
       "      <td>BMW</td>\n",
       "      <td>Black</td>\n",
       "      <td>11179</td>\n",
       "      <td>5.0</td>\n",
       "      <td>22,000</td>\n",
       "      <td>7.3</td>\n",
       "      <td>816.067</td>\n",
       "    </tr>\n",
       "    <tr>\n",
       "      <th>4</th>\n",
       "      <td>Nissan</td>\n",
       "      <td>White</td>\n",
       "      <td>213095</td>\n",
       "      <td>4.0</td>\n",
       "      <td>3,500</td>\n",
       "      <td>8.2</td>\n",
       "      <td>17473.790</td>\n",
       "    </tr>\n",
       "    <tr>\n",
       "      <th>5</th>\n",
       "      <td>Toyota</td>\n",
       "      <td>Green</td>\n",
       "      <td>99213</td>\n",
       "      <td>NaN</td>\n",
       "      <td>4,500</td>\n",
       "      <td>9.4</td>\n",
       "      <td>9326.022</td>\n",
       "    </tr>\n",
       "    <tr>\n",
       "      <th>6</th>\n",
       "      <td>Honda</td>\n",
       "      <td>NaN</td>\n",
       "      <td>45698</td>\n",
       "      <td>4.0</td>\n",
       "      <td>7,500</td>\n",
       "      <td>8.6</td>\n",
       "      <td>3930.028</td>\n",
       "    </tr>\n",
       "    <tr>\n",
       "      <th>7</th>\n",
       "      <td>Honda</td>\n",
       "      <td>Blue</td>\n",
       "      <td>54738</td>\n",
       "      <td>4.0</td>\n",
       "      <td>7,000</td>\n",
       "      <td>7.4</td>\n",
       "      <td>4050.612</td>\n",
       "    </tr>\n",
       "    <tr>\n",
       "      <th>8</th>\n",
       "      <td>Toyota</td>\n",
       "      <td>White</td>\n",
       "      <td>60000</td>\n",
       "      <td>NaN</td>\n",
       "      <td>6,250</td>\n",
       "      <td>8.8</td>\n",
       "      <td>5280.000</td>\n",
       "    </tr>\n",
       "    <tr>\n",
       "      <th>9</th>\n",
       "      <td>Nissan</td>\n",
       "      <td>White</td>\n",
       "      <td>31600</td>\n",
       "      <td>4.0</td>\n",
       "      <td>9,700</td>\n",
       "      <td>7.8</td>\n",
       "      <td>2464.800</td>\n",
       "    </tr>\n",
       "  </tbody>\n",
       "</table>\n",
       "</div>"
      ],
      "text/plain": [
       "     Make Colour  Odometer (KM)  Doors   Price  Fuel (per 100Km)  \\\n",
       "0  Toyota  White         150043    4.0   4,000               7.5   \n",
       "1   Honda    NaN          87899    4.0   5,000               9.2   \n",
       "2  Toyota   Blue          32549    3.0   7,000               8.3   \n",
       "3     BMW  Black          11179    5.0  22,000               7.3   \n",
       "4  Nissan  White         213095    4.0   3,500               8.2   \n",
       "5  Toyota  Green          99213    NaN   4,500               9.4   \n",
       "6   Honda    NaN          45698    4.0   7,500               8.6   \n",
       "7   Honda   Blue          54738    4.0   7,000               7.4   \n",
       "8  Toyota  White          60000    NaN   6,250               8.8   \n",
       "9  Nissan  White          31600    4.0   9,700               7.8   \n",
       "\n",
       "   Total fuel used (L)  \n",
       "0            11253.225  \n",
       "1             8086.708  \n",
       "2             2701.567  \n",
       "3              816.067  \n",
       "4            17473.790  \n",
       "5             9326.022  \n",
       "6             3930.028  \n",
       "7             4050.612  \n",
       "8             5280.000  \n",
       "9             2464.800  "
      ]
     },
     "execution_count": 48,
     "metadata": {},
     "output_type": "execute_result"
    }
   ],
   "source": [
    "# to find fuel used in car's lifetime\n",
    "car_sales['Total fuel used (L)'] = car_sales['Odometer (KM)']/100 * car_sales['Fuel (per 100Km)']\n",
    "car_sales"
   ]
  },
  {
   "cell_type": "code",
   "execution_count": 49,
   "id": "f7d408c0",
   "metadata": {},
   "outputs": [
    {
     "name": "stdout",
     "output_type": "stream",
     "text": [
      "Total Odometer and Price by Make:         Odometer (KM)    Price\n",
      "Make                          \n",
      "BMW           11179.0  22000.0\n",
      "Honda        188335.0  19500.0\n",
      "Nissan       244695.0  13200.0\n",
      "Toyota       341805.0  21750.0\n",
      "\n",
      "Average Odometer and Price by Make:         Odometer (KM)    Price\n",
      "Make                          \n",
      "BMW      11179.000000  22000.0\n",
      "Honda    62778.333333   6500.0\n",
      "Nissan  122347.500000   6600.0\n",
      "Toyota   85451.250000   5437.5\n",
      "\n",
      "Number of Transactions by Make:      Make  count\n",
      "0     BMW      1\n",
      "1   Honda      3\n",
      "2  Nissan      2\n",
      "3  Toyota      4\n"
     ]
    }
   ],
   "source": [
    "# Remove commas from numeric columns\n",
    "car_sales['Odometer (KM)'] = car_sales['Odometer (KM)'].replace({',': ''}, regex=True).astype(float)\n",
    "car_sales['Price'] = car_sales['Price'].replace({',': ''}, regex=True).astype(float)\n",
    "\n",
    "# Grouping by 'Make'\n",
    "grouped_data = car_sales.groupby('Make')\n",
    "\n",
    "# Applying aggregation functions\n",
    "sum_data = grouped_data.agg({'Odometer (KM)': 'sum', 'Price': 'sum'})\n",
    "mean_data = grouped_data.agg({'Odometer (KM)': 'mean', 'Price': 'mean'})\n",
    "count_data = grouped_data.size().reset_index(name='count')\n",
    "\n",
    "# Presenting the results\n",
    "print(\"Total Odometer and Price by Make:\", sum_data)\n",
    "print(\"\\nAverage Odometer and Price by Make:\", mean_data)\n",
    "print(\"\\nNumber of Transactions by Make:\", count_data)\n"
   ]
  },
  {
   "cell_type": "markdown",
   "id": "4b906198",
   "metadata": {},
   "source": [
    "### Task 3: Loading and analyzing the dataset\n",
    "Load two different datasets. Merge them using different types of joins (inner, outer, left, right). Analyze the impact of each type of join on the merged dataset."
   ]
  },
  {
   "cell_type": "code",
   "execution_count": 51,
   "id": "42b7d950",
   "metadata": {},
   "outputs": [
    {
     "name": "stdout",
     "output_type": "stream",
     "text": [
      "DataFrame 1:\n",
      "   ID     Name\n",
      "0   1    Alice\n",
      "1   2      Bob\n",
      "2   3  Charlie\n",
      "\n",
      "DataFrame 2:\n",
      "   ID  Age\n",
      "0   2   25\n",
      "1   3   30\n",
      "2   4   22\n",
      "\n",
      "Inner Join Result:\n",
      "   ID     Name  Age\n",
      "0   2      Bob   25\n",
      "1   3  Charlie   30\n",
      "\n",
      "Outer Join Result:\n",
      "   ID     Name   Age\n",
      "0   1    Alice   NaN\n",
      "1   2      Bob  25.0\n",
      "2   3  Charlie  30.0\n",
      "3   4      NaN  22.0\n",
      "\n",
      "Left Join Result:\n",
      "   ID     Name   Age\n",
      "0   1    Alice   NaN\n",
      "1   2      Bob  25.0\n",
      "2   3  Charlie  30.0\n",
      "\n",
      "Right Join Result:\n",
      "   ID     Name  Age\n",
      "0   2      Bob   25\n",
      "1   3  Charlie   30\n",
      "2   4      NaN   22\n"
     ]
    }
   ],
   "source": [
    "import pandas as pd\n",
    "\n",
    "# Creating and saving two dataframes as CSV files\n",
    "data1 = {'ID': [1, 2, 3], 'Name': ['Alice', 'Bob', 'Charlie']}\n",
    "data2 = {'ID': [2, 3, 4], 'Age': [25, 30, 22]}\n",
    "\n",
    "df1 = pd.DataFrame(data1)\n",
    "df2 = pd.DataFrame(data2)\n",
    "\n",
    "# Save dataframes to CSV files\n",
    "df1.to_csv('data1.csv', index=False)\n",
    "df2.to_csv('data2.csv', index=False)\n",
    "\n",
    "# Load datasets\n",
    "df1 = pd.read_csv('data1.csv')\n",
    "df2 = pd.read_csv('data2.csv')\n",
    "\n",
    "# Display the original datasets\n",
    "print(\"DataFrame 1:\")\n",
    "print(df1)\n",
    "\n",
    "print(\"\\nDataFrame 2:\")\n",
    "print(df2)\n",
    "\n",
    "# Inner Join\n",
    "inner_merged = pd.merge(df1, df2, on='ID', how='inner')\n",
    "print(\"\\nInner Join Result:\")\n",
    "print(inner_merged)\n",
    "\n",
    "# Outer Join\n",
    "outer_merged = pd.merge(df1, df2, on='ID', how='outer')\n",
    "print(\"\\nOuter Join Result:\")\n",
    "print(outer_merged)\n",
    "\n",
    "# Left Join\n",
    "left_merged = pd.merge(df1, df2, on='ID', how='left')\n",
    "print(\"\\nLeft Join Result:\")\n",
    "print(left_merged)\n",
    "\n",
    "# Right Join\n",
    "right_merged = pd.merge(df1, df2, on='ID', how='right')\n",
    "print(\"\\nRight Join Result:\")\n",
    "print(right_merged)\n"
   ]
  },
  {
   "cell_type": "markdown",
   "id": "298fb4d8",
   "metadata": {},
   "source": [
    "### Task 4: Visualization\n",
    "I.\tCreate a bar plot, line plot, and scatter plot using Pandas plotting functions. Customize the plots to make them more informative.\n",
    "\n",
    "II.\tVisualize the correlation matrix of numerical columns. Highlight highly correlated features.\n",
    "\n",
    "III.\tCreate histograms and box plots for numerical columns. Analyze the distribution and presence of outliers"
   ]
  },
  {
   "cell_type": "code",
   "execution_count": 53,
   "id": "e6a16d01",
   "metadata": {},
   "outputs": [
    {
     "data": {
      "image/png": "[encoded data removed]",
      "text/plain": [
       "<Figure size 432x288 with 1 Axes>"
      ]
     },
     "metadata": {
      "needs_background": "light"
     },
     "output_type": "display_data"
    },
    {
     "data": {
      "image/png": "[encoded data removed]",
      "text/plain": [
       "<Figure size 432x288 with 1 Axes>"
      ]
     },
     "metadata": {
      "needs_background": "light"
     },
     "output_type": "display_data"
    },
    {
     "data": {
      "image/png": "[encoded data removed]",
      "text/plain": [
       "<Figure size 432x288 with 1 Axes>"
      ]
     },
     "metadata": {
      "needs_background": "light"
     },
     "output_type": "display_data"
    }
   ],
   "source": [
    "data = {'Category': ['A', 'B', 'C', 'D', 'E'],\n",
    "        'Value1': [10, 15, 7, 20, 12],\n",
    "        'Value2': [5, 8, 12, 10, 15]}\n",
    "\n",
    "df = pd.DataFrame(data)\n",
    "\n",
    "# Bar plot\n",
    "df.plot(kind='bar', x='Category', y=['Value1', 'Value2'], rot=0, title='Bar Plot')\n",
    "plt.show()\n",
    "\n",
    "# Line plot\n",
    "df.plot(kind='line', x='Category', y=['Value1', 'Value2'], marker='o', title='Line Plot')\n",
    "plt.show()\n",
    "\n",
    "# Scatter plot\n",
    "df.plot(kind='scatter', x='Value1', y='Value2', title='Scatter Plot')\n",
    "plt.show()"
   ]
  },
  {
   "cell_type": "code",
   "execution_count": 54,
   "id": "258c2aa7",
   "metadata": {},
   "outputs": [
    {
     "data": {
      "image/png": "[encoded data removed]",
      "text/plain": [
       "<Figure size 576x432 with 2 Axes>"
      ]
     },
     "metadata": {
      "needs_background": "light"
     },
     "output_type": "display_data"
    }
   ],
   "source": [
    "# II. Visualize the correlation matrix\n",
    "\n",
    "# Generate some correlated data for illustration\n",
    "np.random.seed(42)\n",
    "correlated_data = np.random.randn(100, 3)\n",
    "correlated_data[:, 1] = 2 * correlated_data[:, 0] + np.random.randn(100) * 0.5\n",
    "\n",
    "correlation_matrix = pd.DataFrame(correlated_data, columns=['Feature1', 'Feature2', 'Feature3']).corr()\n",
    "\n",
    "# Heatmap of the correlation matrix\n",
    "plt.figure(figsize=(8, 6))\n",
    "sns.heatmap(correlation_matrix, annot=True, cmap='coolwarm', fmt=\".2f\", linewidths=.5)\n",
    "plt.title('Correlation Matrix')\n",
    "plt.show()"
   ]
  },
  {
   "cell_type": "code",
   "execution_count": 55,
   "id": "9d5c040a",
   "metadata": {},
   "outputs": [
    {
     "data": {
      "image/png": "[encoded data removed]",
      "text/plain": [
       "<Figure size 720x288 with 2 Axes>"
      ]
     },
     "metadata": {
      "needs_background": "light"
     },
     "output_type": "display_data"
    }
   ],
   "source": [
    "# III. Create histograms and box plots\n",
    "\n",
    "# Sample data with outliers\n",
    "outliers_data = pd.DataFrame({'Values': np.concatenate([np.random.normal(0, 1, 100), np.random.normal(10, 2, 10)])})\n",
    "\n",
    "# Histogram\n",
    "plt.figure(figsize=(10, 4))\n",
    "plt.subplot(1, 2, 1)\n",
    "sns.histplot(outliers_data['Values'], bins=20, kde=True)\n",
    "plt.title('Histogram')\n",
    "\n",
    "# Box plot\n",
    "plt.subplot(1, 2, 2)\n",
    "sns.boxplot(x=outliers_data['Values'])\n",
    "plt.title('Box Plot')\n",
    "\n",
    "plt.show()"
   ]
  },
  {
   "cell_type": "markdown",
   "id": "a65e8ee5",
   "metadata": {},
   "source": [
    "## Exploring Numpy"
   ]
  },
  {
   "cell_type": "markdown",
   "id": "1479a8c3",
   "metadata": {},
   "source": [
    "### Task 5: Basic NumPy Operations\n",
    "1.\tCreate a NumPy array 'arr' with values from 1 to 10.\n",
    "2.\tCreate another NumPy array 'arr2' with values from 11 to 20.\n",
    "3.\tAdd, subtract, multiply, and divide 'arr' and 'arr2'. Print the results."
   ]
  },
  {
   "cell_type": "code",
   "execution_count": 58,
   "id": "b6aeaf4b",
   "metadata": {},
   "outputs": [
    {
     "name": "stdout",
     "output_type": "stream",
     "text": [
      "Array 'arr': [ 1  2  3  4  5  6  7  8  9 10]\n"
     ]
    }
   ],
   "source": [
    "# 1. Create a NumPy array 'arr' with values from 1 to 10.\n",
    "arr = np.arange(1, 11)\n",
    "print(\"Array 'arr':\", arr)"
   ]
  },
  {
   "cell_type": "code",
   "execution_count": 59,
   "id": "979e0aec",
   "metadata": {},
   "outputs": [
    {
     "name": "stdout",
     "output_type": "stream",
     "text": [
      "Array 'arr2': [11 12 13 14 15 16 17 18 19 20]\n"
     ]
    }
   ],
   "source": [
    "# 2. Create another NumPy array 'arr2' with values from 11 to 20.\n",
    "arr2 = np.arange(11, 21)\n",
    "print(\"Array 'arr2':\", arr2)"
   ]
  },
  {
   "cell_type": "code",
   "execution_count": 60,
   "id": "60c2beff",
   "metadata": {},
   "outputs": [
    {
     "name": "stdout",
     "output_type": "stream",
     "text": [
      "Addition Result: [12 14 16 18 20 22 24 26 28 30]\n",
      "Subtraction Result: [-10 -10 -10 -10 -10 -10 -10 -10 -10 -10]\n",
      "Multiplication Result: [ 11  24  39  56  75  96 119 144 171 200]\n",
      "Division Result: [0.09090909 0.16666667 0.23076923 0.28571429 0.33333333 0.375\n",
      " 0.41176471 0.44444444 0.47368421 0.5       ]\n"
     ]
    }
   ],
   "source": [
    "# 3. Perform arithmetic operations and print the results.\n",
    "addition_result = arr + arr2\n",
    "subtraction_result = arr - arr2\n",
    "multiplication_result = arr * arr2\n",
    "division_result = arr / arr2\n",
    "\n",
    "print(\"Addition Result:\", addition_result)\n",
    "print(\"Subtraction Result:\", subtraction_result)\n",
    "print(\"Multiplication Result:\", multiplication_result)\n",
    "print(\"Division Result:\", division_result)\n"
   ]
  },
  {
   "cell_type": "markdown",
   "id": "0877cd84",
   "metadata": {},
   "source": [
    "### Task 6: Array Manipulation\n",
    "1.\tReshape 'arr' into a 2x5 matrix.\n",
    "2.\tTranspose the matrix obtained in the previous step.\n",
    "3.\tFlatten the transposed matrix into a 1D array.\n",
    "4.\tStack 'arr' and 'arr2' vertically. Print the result."
   ]
  },
  {
   "cell_type": "code",
   "execution_count": 61,
   "id": "30908342",
   "metadata": {},
   "outputs": [
    {
     "name": "stdout",
     "output_type": "stream",
     "text": [
      "1. Reshaped Array (2x5):\n",
      "[[ 1  2  3  4  5]\n",
      " [ 6  7  8  9 10]]\n"
     ]
    }
   ],
   "source": [
    "# 1. Reshape 'arr' into a 2x5 matrix.\n",
    "arr_reshaped = arr.reshape(2, 5)\n",
    "print(\"1. Reshaped Array (2x5):\")\n",
    "print(arr_reshaped)"
   ]
  },
  {
   "cell_type": "code",
   "execution_count": 62,
   "id": "e1917903",
   "metadata": {},
   "outputs": [
    {
     "name": "stdout",
     "output_type": "stream",
     "text": [
      "\n",
      "2. Transposed Array:\n",
      "[[ 1  6]\n",
      " [ 2  7]\n",
      " [ 3  8]\n",
      " [ 4  9]\n",
      " [ 5 10]]\n"
     ]
    }
   ],
   "source": [
    "# 2. Transpose the matrix obtained in the previous step.\n",
    "arr_transposed = arr_reshaped.T\n",
    "print(\"\\n2. Transposed Array:\")\n",
    "print(arr_transposed)"
   ]
  },
  {
   "cell_type": "code",
   "execution_count": 63,
   "id": "87851b10",
   "metadata": {},
   "outputs": [
    {
     "name": "stdout",
     "output_type": "stream",
     "text": [
      "\n",
      "3. Flattened Transposed Array (1D): [ 1  6  2  7  3  8  4  9  5 10]\n"
     ]
    }
   ],
   "source": [
    "# 3. Flatten the transposed matrix into a 1D array.\n",
    "arr_flattened = arr_transposed.flatten()\n",
    "print(\"\\n3. Flattened Transposed Array (1D):\", arr_flattened)"
   ]
  },
  {
   "cell_type": "code",
   "execution_count": 64,
   "id": "ca94bc47",
   "metadata": {},
   "outputs": [
    {
     "name": "stdout",
     "output_type": "stream",
     "text": [
      "\n",
      "4. Vertically Stacked Arrays:\n",
      "[[ 1  2  3  4  5  6  7  8  9 10]\n",
      " [11 12 13 14 15 16 17 18 19 20]]\n"
     ]
    }
   ],
   "source": [
    "# 4. Stack 'arr' and 'arr2' vertically. Print the result.\n",
    "stacked_vertical = np.vstack((arr, arr2))\n",
    "print(\"\\n4. Vertically Stacked Arrays:\")\n",
    "print(stacked_vertical)"
   ]
  },
  {
   "cell_type": "markdown",
   "id": "0aec0f4b",
   "metadata": {},
   "source": [
    "### Task 7: Statistical Operations\n",
    "1.\tCalculate the mean, median, and standard deviation of 'arr'.\n",
    "2.\tFind the maximum and minimum values in 'arr'.\n",
    "3.\tNormalize 'arr' (subtract the mean and divide by the standard deviation).\n"
   ]
  },
  {
   "cell_type": "code",
   "execution_count": 67,
   "id": "9f8058ed",
   "metadata": {},
   "outputs": [
    {
     "name": "stdout",
     "output_type": "stream",
     "text": [
      "Mean of 'arr': 5.5\n",
      "Median of 'arr': 5.5\n",
      "Standard Deviation of 'arr': 2.8722813232690143\n"
     ]
    }
   ],
   "source": [
    "# Calculate mean, median, and standard deviation of 'arr'\n",
    "arr_mean = np.mean(arr)\n",
    "arr_median = np.median(arr)\n",
    "arr_std = np.std(arr)\n",
    "print(\"Mean of 'arr':\", arr_mean)\n",
    "print(\"Median of 'arr':\", arr_median)\n",
    "print(\"Standard Deviation of 'arr':\", arr_std)"
   ]
  },
  {
   "cell_type": "code",
   "execution_count": 68,
   "id": "b43e34a1",
   "metadata": {},
   "outputs": [
    {
     "name": "stdout",
     "output_type": "stream",
     "text": [
      "Maximum Value in 'arr': 10\n",
      "Minimum Value in 'arr': 1\n"
     ]
    }
   ],
   "source": [
    "# Find maximum and minimum values in 'arr'\n",
    "arr_max = np.max(arr)\n",
    "arr_min = np.min(arr)\n",
    "print(\"Maximum Value in 'arr':\", arr_max)\n",
    "print(\"Minimum Value in 'arr':\", arr_min)"
   ]
  },
  {
   "cell_type": "code",
   "execution_count": 69,
   "id": "d2b20211",
   "metadata": {},
   "outputs": [
    {
     "name": "stdout",
     "output_type": "stream",
     "text": [
      "\n",
      "Normalized 'arr': [-1.5666989  -1.21854359 -0.87038828 -0.52223297 -0.17407766  0.17407766\n",
      "  0.52223297  0.87038828  1.21854359  1.5666989 ]\n"
     ]
    }
   ],
   "source": [
    "# Normalize 'arr' (subtract the mean and divide by the standard deviation)\n",
    "arr_normalized = (arr - arr_mean) / arr_std\n",
    "print(\"\\nNormalized 'arr':\", arr_normalized)"
   ]
  },
  {
   "cell_type": "markdown",
   "id": "863e1958",
   "metadata": {},
   "source": [
    "### Task 8: Boolean Indexing\n",
    "1.\tCreate a boolean array 'bool_arr' for elements in 'arr' greater than 5.\n",
    "2.\tUse 'bool_arr' to extract the elements from 'arr' that are greater than 5."
   ]
  },
  {
   "cell_type": "code",
   "execution_count": 70,
   "id": "83de8c5e",
   "metadata": {},
   "outputs": [
    {
     "name": "stdout",
     "output_type": "stream",
     "text": [
      "Original 'arr': [ 1  2  3  4  5  6  7  8  9 10]\n",
      "\n",
      "Boolean array 'bool_arr': [False False False False False  True  True  True  True  True]\n"
     ]
    }
   ],
   "source": [
    "import numpy as np\n",
    "\n",
    "# Create a NumPy array 'arr' with values from 1 to 10.\n",
    "arr = np.arange(1, 11)\n",
    "print(\"Original 'arr':\", arr)\n",
    "\n",
    "# Create a boolean array 'bool_arr' for elements in 'arr' greater than 5.\n",
    "bool_arr = arr > 5\n",
    "print(\"\\nBoolean array 'bool_arr':\", bool_arr)"
   ]
  },
  {
   "cell_type": "code",
   "execution_count": 71,
   "id": "9b9e2548",
   "metadata": {},
   "outputs": [
    {
     "name": "stdout",
     "output_type": "stream",
     "text": [
      "\n",
      "Elements in 'arr' greater than 5: [ 6  7  8  9 10]\n"
     ]
    }
   ],
   "source": [
    "# Use 'bool_arr' to extract elements from 'arr' that are greater than 5.\n",
    "elements_greater_than_5 = arr[bool_arr]\n",
    "print(\"\\nElements in 'arr' greater than 5:\", elements_greater_than_5)"
   ]
  },
  {
   "cell_type": "markdown",
   "id": "bbb7ac0e",
   "metadata": {},
   "source": [
    "### Task 9: Random Module\n",
    "1.\tGenerate a 3x3 matrix with random values between 0 and 1.\n",
    "2.\tCreate an array of 10 random integers between 1 and 100.\n",
    "3.\tShuffle the elements of 'arr' randomly."
   ]
  },
  {
   "cell_type": "code",
   "execution_count": 72,
   "id": "47d83285",
   "metadata": {},
   "outputs": [
    {
     "name": "stdout",
     "output_type": "stream",
     "text": [
      "Random 3x3 Matrix:\n",
      "[[0.41039683 0.98237862 0.1120389 ]\n",
      " [0.3978556  0.96947043 0.86550713]\n",
      " [0.81707207 0.25790283 0.17088759]]\n"
     ]
    }
   ],
   "source": [
    "random_matrix = np.random.rand(3, 3)\n",
    "print(\"Random 3x3 Matrix:\")\n",
    "print(random_matrix)"
   ]
  },
  {
   "cell_type": "code",
   "execution_count": 73,
   "id": "8da56e12",
   "metadata": {},
   "outputs": [
    {
     "name": "stdout",
     "output_type": "stream",
     "text": [
      "\n",
      "Array of 10 Random Integers:\n",
      "[51 62 57 66 79 75  8 26 51 45]\n"
     ]
    }
   ],
   "source": [
    "random_integers = np.random.randint(1, 101, 10)\n",
    "print(\"\\nArray of 10 Random Integers:\")\n",
    "print(random_integers)"
   ]
  },
  {
   "cell_type": "code",
   "execution_count": 74,
   "id": "cc334eef",
   "metadata": {},
   "outputs": [
    {
     "name": "stdout",
     "output_type": "stream",
     "text": [
      "\n",
      "Shuffled 'arr': [5 3 2 1 4]\n"
     ]
    }
   ],
   "source": [
    "arr = np.array([1, 2, 3, 4, 5])\n",
    "np.random.shuffle(arr)\n",
    "print(\"\\nShuffled 'arr':\", arr)"
   ]
  },
  {
   "cell_type": "markdown",
   "id": "159a2100",
   "metadata": {},
   "source": [
    "### Task 10: Universal Functions (ufunc)\n",
    "1.\tApply the square root function to all elements in 'arr'.\n",
    "2.\tUse the exponential function to calculate exex for each element in 'arr'."
   ]
  },
  {
   "cell_type": "code",
   "execution_count": 75,
   "id": "81862abf",
   "metadata": {},
   "outputs": [
    {
     "name": "stdout",
     "output_type": "stream",
     "text": [
      "\n",
      "Square Root of 'arr': [2.23606798 1.73205081 1.41421356 1.         2.        ]\n"
     ]
    }
   ],
   "source": [
    "arr_sqrt = np.sqrt(arr)\n",
    "print(\"\\nSquare Root of 'arr':\", arr_sqrt)"
   ]
  },
  {
   "cell_type": "code",
   "execution_count": 76,
   "id": "2679e83f",
   "metadata": {},
   "outputs": [
    {
     "name": "stdout",
     "output_type": "stream",
     "text": [
      "Exponential of 'arr': [148.4131591   20.08553692   7.3890561    2.71828183  54.59815003]\n"
     ]
    }
   ],
   "source": [
    "arr_exp = np.exp(arr)\n",
    "print(\"Exponential of 'arr':\", arr_exp)"
   ]
  },
  {
   "cell_type": "markdown",
   "id": "e6d26585",
   "metadata": {},
   "source": [
    "### Task 11: Linear Algebra Operations\n",
    "1.\tCreate a 3x3 matrix 'mat_a' with random values.\n",
    "2.\tCreate a 3x1 matrix 'vec_b' with random values.\n",
    "3.\tMultiply 'mat_a' and 'vec_b' using the dot product.\n",
    "\n"
   ]
  },
  {
   "cell_type": "code",
   "execution_count": 77,
   "id": "f50bac92",
   "metadata": {},
   "outputs": [
    {
     "name": "stdout",
     "output_type": "stream",
     "text": [
      "\n",
      "Random 3x3 Matrix 'mat_a':\n",
      "[[0.32367924 0.42543644 0.50761038]\n",
      " [0.24240973 0.11483682 0.61062004]\n",
      " [0.28863055 0.58123822 0.15436272]]\n"
     ]
    }
   ],
   "source": [
    "mat_a = np.random.rand(3, 3)\n",
    "print(\"\\nRandom 3x3 Matrix 'mat_a':\")\n",
    "print(mat_a)"
   ]
  },
  {
   "cell_type": "code",
   "execution_count": 78,
   "id": "7761e449",
   "metadata": {},
   "outputs": [
    {
     "name": "stdout",
     "output_type": "stream",
     "text": [
      "\n",
      "Random 3x1 Matrix 'vec_b':\n",
      "[[0.4811401 ]\n",
      " [0.53258943]\n",
      " [0.05182354]]\n"
     ]
    }
   ],
   "source": [
    "vec_b = np.random.rand(3, 1)\n",
    "print(\"\\nRandom 3x1 Matrix 'vec_b':\")\n",
    "print(vec_b)"
   ]
  },
  {
   "cell_type": "code",
   "execution_count": 79,
   "id": "ca7b67a6",
   "metadata": {},
   "outputs": [
    {
     "name": "stdout",
     "output_type": "stream",
     "text": [
      "\n",
      "Result of Matrix Multiplication (Dot Product):\n",
      "[[0.40862418]\n",
      " [0.20943841]\n",
      " [0.45643269]]\n"
     ]
    }
   ],
   "source": [
    "result_dot_product = np.dot(mat_a, vec_b)\n",
    "print(\"\\nResult of Matrix Multiplication (Dot Product):\")\n",
    "print(result_dot_product)"
   ]
  },
  {
   "cell_type": "markdown",
   "id": "eb5dcf6b",
   "metadata": {},
   "source": [
    "### Task 12: Broadcasting\n",
    "1.\tCreate a 2D array 'matrix' with values from 1 to 9.\n",
    "2.\tSubtract the mean of each row from each element in that row."
   ]
  },
  {
   "cell_type": "code",
   "execution_count": 80,
   "id": "a497db8c",
   "metadata": {},
   "outputs": [
    {
     "name": "stdout",
     "output_type": "stream",
     "text": [
      "\n",
      "2D Array 'matrix':\n",
      "[[1 2 3]\n",
      " [4 5 6]\n",
      " [7 8 9]]\n"
     ]
    }
   ],
   "source": [
    "matrix = np.arange(1, 10).reshape(3, 3)\n",
    "print(\"\\n2D Array 'matrix':\")\n",
    "print(matrix)"
   ]
  },
  {
   "cell_type": "code",
   "execution_count": 81,
   "id": "d3c2b186",
   "metadata": {},
   "outputs": [
    {
     "name": "stdout",
     "output_type": "stream",
     "text": [
      "\n",
      "Result after Broadcasting (subtracting mean of each row):\n",
      "[[-1.  0.  1.]\n",
      " [-1.  0.  1.]\n",
      " [-1.  0.  1.]]\n"
     ]
    }
   ],
   "source": [
    "mean_row = matrix.mean(axis=1, keepdims=True)\n",
    "result_broadcasting = matrix - mean_row\n",
    "print(\"\\nResult after Broadcasting (subtracting mean of each row):\")\n",
    "print(result_broadcasting)"
   ]
  },
  {
   "cell_type": "code",
   "execution_count": null,
   "id": "4d3825e7",
   "metadata": {},
   "outputs": [],
   "source": []
  }
 ],
 "metadata": {
  "kernelspec": {
   "display_name": "Python 3 (ipykernel)",
   "language": "python",
   "name": "python3"
  },
  "language_info": {
   "codemirror_mode": {
    "name": "ipython",
    "version": 3
   },
   "file_extension": ".py",
   "mimetype": "text/x-python",
   "name": "python",
   "nbconvert_exporter": "python",
   "pygments_lexer": "ipython3",
   "version": "3.11.7"
  }
 },
 "nbformat": 4,
 "nbformat_minor": 5
}
