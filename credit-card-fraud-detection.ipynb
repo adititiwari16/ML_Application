{
 "cells": [
  {
   "cell_type": "code",
   "execution_count": 1,
   "id": "6d3c0c99",
   "metadata": {
    "_cell_guid": "b1076dfc-b9ad-4769-8c92-a6c4dae69d19",
    "_uuid": "8f2839f25d086af736a60e9eeb907d3b93b6e0e5",
    "execution": {
     "iopub.execute_input": "2024-04-23T02:00:10.930089Z",
     "iopub.status.busy": "2024-04-23T02:00:10.929182Z",
     "iopub.status.idle": "2024-04-23T02:00:17.648559Z",
     "shell.execute_reply": "2024-04-23T02:00:17.646896Z"
    },
    "papermill": {
     "duration": 6.72842,
     "end_time": "2024-04-23T02:00:17.651587",
     "exception": false,
     "start_time": "2024-04-23T02:00:10.923167",
     "status": "completed"
    },
    "tags": []
   },
   "outputs": [],
   "source": [
    "# imports\n",
    "import pandas as pd\n",
    "import seaborn as sns\n",
    "import matplotlib.pyplot as plt\n",
    "\n",
    "pd.set_option('display.float_format', lambda x: '%.2f' % x)\n",
    "\n",
    "sns.set_theme()\n",
    "\n",
    "df = pd.read_csv('/kaggle/input/creditcardfraud/creditcard.csv')\n",
    "\n",
    "# turn off warnings\n",
    "import warnings\n",
    "warnings.filterwarnings('ignore')"
   ]
  },
  {
   "cell_type": "markdown",
   "id": "68c93dfd",
   "metadata": {
    "papermill": {
     "duration": 0.002712,
     "end_time": "2024-04-23T02:00:17.657727",
     "exception": false,
     "start_time": "2024-04-23T02:00:17.655015",
     "status": "completed"
    },
    "tags": []
   },
   "source": [
    "## Data Set\n",
    "\n",
    "- 0 => legit transaction\n",
    "- 1 => fraud"
   ]
  },
  {
   "cell_type": "code",
   "execution_count": 2,
   "id": "09d7c6d7",
   "metadata": {
    "execution": {
     "iopub.execute_input": "2024-04-23T02:00:17.666883Z",
     "iopub.status.busy": "2024-04-23T02:00:17.664732Z",
     "iopub.status.idle": "2024-04-23T02:00:17.714562Z",
     "shell.execute_reply": "2024-04-23T02:00:17.713241Z"
    },
    "papermill": {
     "duration": 0.057019,
     "end_time": "2024-04-23T02:00:17.717580",
     "exception": false,
     "start_time": "2024-04-23T02:00:17.660561",
     "status": "completed"
    },
    "tags": []
   },
   "outputs": [
    {
     "data": {
      "text/html": [
       "<div>\n",
       "<style scoped>\n",
       "    .dataframe tbody tr th:only-of-type {\n",
       "        vertical-align: middle;\n",
       "    }\n",
       "\n",
       "    .dataframe tbody tr th {\n",
       "        vertical-align: top;\n",
       "    }\n",
       "\n",
       "    .dataframe thead th {\n",
       "        text-align: right;\n",
       "    }\n",
       "</style>\n",
       "<table border=\"1\" class=\"dataframe\">\n",
       "  <thead>\n",
       "    <tr style=\"text-align: right;\">\n",
       "      <th></th>\n",
       "      <th>Time</th>\n",
       "      <th>V1</th>\n",
       "      <th>V2</th>\n",
       "      <th>V3</th>\n",
       "      <th>V4</th>\n",
       "      <th>V5</th>\n",
       "      <th>V6</th>\n",
       "      <th>V7</th>\n",
       "      <th>V8</th>\n",
       "      <th>V9</th>\n",
       "      <th>...</th>\n",
       "      <th>V21</th>\n",
       "      <th>V22</th>\n",
       "      <th>V23</th>\n",
       "      <th>V24</th>\n",
       "      <th>V25</th>\n",
       "      <th>V26</th>\n",
       "      <th>V27</th>\n",
       "      <th>V28</th>\n",
       "      <th>Amount</th>\n",
       "      <th>Class</th>\n",
       "    </tr>\n",
       "  </thead>\n",
       "  <tbody>\n",
       "    <tr>\n",
       "      <th>49166</th>\n",
       "      <td>43942.00</td>\n",
       "      <td>1.22</td>\n",
       "      <td>0.66</td>\n",
       "      <td>-0.45</td>\n",
       "      <td>0.80</td>\n",
       "      <td>0.13</td>\n",
       "      <td>-1.23</td>\n",
       "      <td>0.36</td>\n",
       "      <td>-0.22</td>\n",
       "      <td>-0.54</td>\n",
       "      <td>...</td>\n",
       "      <td>-0.08</td>\n",
       "      <td>-0.18</td>\n",
       "      <td>-0.08</td>\n",
       "      <td>0.44</td>\n",
       "      <td>0.54</td>\n",
       "      <td>0.34</td>\n",
       "      <td>-0.03</td>\n",
       "      <td>0.04</td>\n",
       "      <td>0.76</td>\n",
       "      <td>0</td>\n",
       "    </tr>\n",
       "    <tr>\n",
       "      <th>283877</th>\n",
       "      <td>171944.00</td>\n",
       "      <td>2.06</td>\n",
       "      <td>0.02</td>\n",
       "      <td>-1.04</td>\n",
       "      <td>0.41</td>\n",
       "      <td>-0.06</td>\n",
       "      <td>-1.20</td>\n",
       "      <td>0.25</td>\n",
       "      <td>-0.39</td>\n",
       "      <td>0.40</td>\n",
       "      <td>...</td>\n",
       "      <td>-0.28</td>\n",
       "      <td>-0.62</td>\n",
       "      <td>0.33</td>\n",
       "      <td>0.07</td>\n",
       "      <td>-0.27</td>\n",
       "      <td>0.19</td>\n",
       "      <td>-0.06</td>\n",
       "      <td>-0.06</td>\n",
       "      <td>0.89</td>\n",
       "      <td>0</td>\n",
       "    </tr>\n",
       "    <tr>\n",
       "      <th>222314</th>\n",
       "      <td>142926.00</td>\n",
       "      <td>-0.74</td>\n",
       "      <td>1.19</td>\n",
       "      <td>0.84</td>\n",
       "      <td>-0.39</td>\n",
       "      <td>0.87</td>\n",
       "      <td>-0.12</td>\n",
       "      <td>0.93</td>\n",
       "      <td>-0.02</td>\n",
       "      <td>-0.82</td>\n",
       "      <td>...</td>\n",
       "      <td>0.28</td>\n",
       "      <td>0.92</td>\n",
       "      <td>-0.60</td>\n",
       "      <td>0.77</td>\n",
       "      <td>0.95</td>\n",
       "      <td>0.15</td>\n",
       "      <td>0.15</td>\n",
       "      <td>0.12</td>\n",
       "      <td>2.70</td>\n",
       "      <td>0</td>\n",
       "    </tr>\n",
       "    <tr>\n",
       "      <th>272641</th>\n",
       "      <td>165194.00</td>\n",
       "      <td>1.86</td>\n",
       "      <td>-1.13</td>\n",
       "      <td>-1.50</td>\n",
       "      <td>-0.33</td>\n",
       "      <td>-0.53</td>\n",
       "      <td>-0.60</td>\n",
       "      <td>-0.18</td>\n",
       "      <td>-0.24</td>\n",
       "      <td>-0.53</td>\n",
       "      <td>...</td>\n",
       "      <td>0.07</td>\n",
       "      <td>0.50</td>\n",
       "      <td>-0.17</td>\n",
       "      <td>-0.39</td>\n",
       "      <td>0.18</td>\n",
       "      <td>-0.03</td>\n",
       "      <td>-0.02</td>\n",
       "      <td>-0.04</td>\n",
       "      <td>158.00</td>\n",
       "      <td>0</td>\n",
       "    </tr>\n",
       "    <tr>\n",
       "      <th>90270</th>\n",
       "      <td>62947.00</td>\n",
       "      <td>-2.05</td>\n",
       "      <td>-0.18</td>\n",
       "      <td>-0.15</td>\n",
       "      <td>1.19</td>\n",
       "      <td>0.76</td>\n",
       "      <td>0.02</td>\n",
       "      <td>-0.63</td>\n",
       "      <td>0.95</td>\n",
       "      <td>-0.63</td>\n",
       "      <td>...</td>\n",
       "      <td>0.16</td>\n",
       "      <td>-0.00</td>\n",
       "      <td>-0.60</td>\n",
       "      <td>-1.29</td>\n",
       "      <td>0.14</td>\n",
       "      <td>-0.17</td>\n",
       "      <td>-0.13</td>\n",
       "      <td>-0.46</td>\n",
       "      <td>60.00</td>\n",
       "      <td>0</td>\n",
       "    </tr>\n",
       "  </tbody>\n",
       "</table>\n",
       "<p>5 rows × 31 columns</p>\n",
       "</div>"
      ],
      "text/plain": [
       "            Time    V1    V2    V3    V4    V5    V6    V7    V8    V9  ...  \\\n",
       "49166   43942.00  1.22  0.66 -0.45  0.80  0.13 -1.23  0.36 -0.22 -0.54  ...   \n",
       "283877 171944.00  2.06  0.02 -1.04  0.41 -0.06 -1.20  0.25 -0.39  0.40  ...   \n",
       "222314 142926.00 -0.74  1.19  0.84 -0.39  0.87 -0.12  0.93 -0.02 -0.82  ...   \n",
       "272641 165194.00  1.86 -1.13 -1.50 -0.33 -0.53 -0.60 -0.18 -0.24 -0.53  ...   \n",
       "90270   62947.00 -2.05 -0.18 -0.15  1.19  0.76  0.02 -0.63  0.95 -0.63  ...   \n",
       "\n",
       "         V21   V22   V23   V24   V25   V26   V27   V28  Amount  Class  \n",
       "49166  -0.08 -0.18 -0.08  0.44  0.54  0.34 -0.03  0.04    0.76      0  \n",
       "283877 -0.28 -0.62  0.33  0.07 -0.27  0.19 -0.06 -0.06    0.89      0  \n",
       "222314  0.28  0.92 -0.60  0.77  0.95  0.15  0.15  0.12    2.70      0  \n",
       "272641  0.07  0.50 -0.17 -0.39  0.18 -0.03 -0.02 -0.04  158.00      0  \n",
       "90270   0.16 -0.00 -0.60 -1.29  0.14 -0.17 -0.13 -0.46   60.00      0  \n",
       "\n",
       "[5 rows x 31 columns]"
      ]
     },
     "execution_count": 2,
     "metadata": {},
     "output_type": "execute_result"
    }
   ],
   "source": [
    "df.sample(5)"
   ]
  },
  {
   "cell_type": "code",
   "execution_count": 3,
   "id": "646d8e68",
   "metadata": {
    "execution": {
     "iopub.execute_input": "2024-04-23T02:00:17.726939Z",
     "iopub.status.busy": "2024-04-23T02:00:17.726269Z",
     "iopub.status.idle": "2024-04-23T02:00:17.776804Z",
     "shell.execute_reply": "2024-04-23T02:00:17.775659Z"
    },
    "papermill": {
     "duration": 0.058958,
     "end_time": "2024-04-23T02:00:17.780089",
     "exception": false,
     "start_time": "2024-04-23T02:00:17.721131",
     "status": "completed"
    },
    "tags": []
   },
   "outputs": [
    {
     "data": {
      "text/html": [
       "<div>\n",
       "<style scoped>\n",
       "    .dataframe tbody tr th:only-of-type {\n",
       "        vertical-align: middle;\n",
       "    }\n",
       "\n",
       "    .dataframe tbody tr th {\n",
       "        vertical-align: top;\n",
       "    }\n",
       "\n",
       "    .dataframe thead th {\n",
       "        text-align: right;\n",
       "    }\n",
       "</style>\n",
       "<table border=\"1\" class=\"dataframe\">\n",
       "  <thead>\n",
       "    <tr style=\"text-align: right;\">\n",
       "      <th></th>\n",
       "      <th>Time</th>\n",
       "      <th>Amount</th>\n",
       "    </tr>\n",
       "  </thead>\n",
       "  <tbody>\n",
       "    <tr>\n",
       "      <th>count</th>\n",
       "      <td>284807.00</td>\n",
       "      <td>284807.00</td>\n",
       "    </tr>\n",
       "    <tr>\n",
       "      <th>mean</th>\n",
       "      <td>94813.86</td>\n",
       "      <td>88.35</td>\n",
       "    </tr>\n",
       "    <tr>\n",
       "      <th>std</th>\n",
       "      <td>47488.15</td>\n",
       "      <td>250.12</td>\n",
       "    </tr>\n",
       "    <tr>\n",
       "      <th>min</th>\n",
       "      <td>0.00</td>\n",
       "      <td>0.00</td>\n",
       "    </tr>\n",
       "    <tr>\n",
       "      <th>25%</th>\n",
       "      <td>54201.50</td>\n",
       "      <td>5.60</td>\n",
       "    </tr>\n",
       "    <tr>\n",
       "      <th>50%</th>\n",
       "      <td>84692.00</td>\n",
       "      <td>22.00</td>\n",
       "    </tr>\n",
       "    <tr>\n",
       "      <th>75%</th>\n",
       "      <td>139320.50</td>\n",
       "      <td>77.16</td>\n",
       "    </tr>\n",
       "    <tr>\n",
       "      <th>max</th>\n",
       "      <td>172792.00</td>\n",
       "      <td>25691.16</td>\n",
       "    </tr>\n",
       "  </tbody>\n",
       "</table>\n",
       "</div>"
      ],
      "text/plain": [
       "           Time    Amount\n",
       "count 284807.00 284807.00\n",
       "mean   94813.86     88.35\n",
       "std    47488.15    250.12\n",
       "min        0.00      0.00\n",
       "25%    54201.50      5.60\n",
       "50%    84692.00     22.00\n",
       "75%   139320.50     77.16\n",
       "max   172792.00  25691.16"
      ]
     },
     "execution_count": 3,
     "metadata": {},
     "output_type": "execute_result"
    }
   ],
   "source": [
    "df.loc[:, ['Time', 'Amount']].describe()"
   ]
  },
  {
   "cell_type": "code",
   "execution_count": 4,
   "id": "5882c186",
   "metadata": {
    "execution": {
     "iopub.execute_input": "2024-04-23T02:00:17.790544Z",
     "iopub.status.busy": "2024-04-23T02:00:17.789483Z",
     "iopub.status.idle": "2024-04-23T02:00:18.174014Z",
     "shell.execute_reply": "2024-04-23T02:00:18.172853Z"
    },
    "papermill": {
     "duration": 0.392898,
     "end_time": "2024-04-23T02:00:18.176930",
     "exception": false,
     "start_time": "2024-04-23T02:00:17.784032",
     "status": "completed"
    },
    "tags": []
   },
   "outputs": [
    {
     "data": {
      "text/plain": [
       "Text(0.5, 0, '0:Non-Fraudulent, 1:Fraudulent')"
      ]
     },
     "execution_count": 4,
     "metadata": {},
     "output_type": "execute_result"
    },
    {
     "data": {
      "image/png": "[encoded data removed]",
      "text/plain": [
       "<Figure size 1000x800 with 1 Axes>"
      ]
     },
     "metadata": {},
     "output_type": "display_data"
    }
   ],
   "source": [
    "plt.figure(figsize=(10,8))\n",
    "sns.barplot(x=df['Class'].value_counts().index, y=df['Class'].value_counts(), color='blue')\n",
    "plt.title('Fraudulent vs. Non-Fraudulent Transactions')\n",
    "plt.ylabel('Count')\n",
    "plt.xlabel('0:Non-Fraudulent, 1:Fraudulent')"
   ]
  },
  {
   "cell_type": "code",
   "execution_count": 5,
   "id": "08aa9398",
   "metadata": {
    "execution": {
     "iopub.execute_input": "2024-04-23T02:00:18.188145Z",
     "iopub.status.busy": "2024-04-23T02:00:18.187768Z",
     "iopub.status.idle": "2024-04-23T02:00:20.390121Z",
     "shell.execute_reply": "2024-04-23T02:00:20.388078Z"
    },
    "papermill": {
     "duration": 2.210815,
     "end_time": "2024-04-23T02:00:20.392542",
     "exception": false,
     "start_time": "2024-04-23T02:00:18.181727",
     "status": "completed"
    },
    "tags": []
   },
   "outputs": [
    {
     "data": {
      "text/plain": [
       "<seaborn.axisgrid.FacetGrid at 0x7f7f583f53f0>"
      ]
     },
     "execution_count": 5,
     "metadata": {},
     "output_type": "execute_result"
    },
    {
     "data": {
      "image/png": "[encoded data removed]",
      "text/plain": [
       "<Figure size 500x500 with 1 Axes>"
      ]
     },
     "metadata": {},
     "output_type": "display_data"
    }
   ],
   "source": [
    "sns.displot(df['Time'], kde=True)"
   ]
  }
 ],
 "metadata": {
  "kaggle": {
   "accelerator": "none",
   "dataSources": [
    {
     "datasetId": 310,
     "sourceId": 23498,
     "sourceType": "datasetVersion"
    }
   ],
   "dockerImageVersionId": 30702,
   "isGpuEnabled": false,
   "isInternetEnabled": false,
   "language": "python",
   "sourceType": "notebook"
  },
  "kernelspec": {
   "display_name": "Python 3 (ipykernel)",
   "language": "python",
   "name": "python3"
  },
  "language_info": {
   "codemirror_mode": {
    "name": "ipython",
    "version": 3
   },
   "file_extension": ".py",
   "mimetype": "text/x-python",
   "name": "python",
   "nbconvert_exporter": "python",
   "pygments_lexer": "ipython3",
   "version": "3.11.7"
  },
  "papermill": {
   "default_parameters": {},
   "duration": 13.115307,
   "end_time": "2024-04-23T02:00:21.018891",
   "environment_variables": {},
   "exception": null,
   "input_path": "__notebook__.ipynb",
   "output_path": "__notebook__.ipynb",
   "parameters": {},
   "start_time": "2024-04-23T02:00:07.903584",
   "version": "2.5.0"
  }
 },
 "nbformat": 4,
 "nbformat_minor": 5
}
